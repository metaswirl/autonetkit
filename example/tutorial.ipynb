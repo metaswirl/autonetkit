{
 "metadata": {
  "name": "tutorial"
 },
 "nbformat": 3,
 "nbformat_minor": 0,
 "worksheets": [
  {
   "cells": [
    {
     "cell_type": "code",
     "collapsed": false,
     "input": [
      "from IPython.display import Image"
     ],
     "language": "python",
     "metadata": {},
     "outputs": [],
     "prompt_number": 75
    },
    {
     "cell_type": "code",
     "collapsed": false,
     "input": [
      "import autonetkit\n",
      "import autonetkit.anm\n",
      "import autonetkit.load.graphml as graphml\n",
      "\n",
      "anm =  autonetkit.ANM()\n",
      "#input_graph = graphml.load_graphml(\"small_internet.graphml\")\n",
      "input_graph = graphml.load_graphml(\"singleas.graphml\")\n",
      "g_in = anm.initialise_graph(input_graph)\n",
      "autonetkit.update_http(anm)"
     ],
     "language": "python",
     "metadata": {},
     "outputs": [],
     "prompt_number": 1
    },
    {
     "cell_type": "markdown",
     "metadata": {},
     "source": [
      "Create the Physical Graph"
     ]
    },
    {
     "cell_type": "code",
     "collapsed": false,
     "input": [
      "g_phy = anm['phy']\n",
      "g_phy.add_nodes_from(g_in, retain=['label', 'device_type', 'asn', 'platform', 'host', 'syntax'])\n",
      "g_phy.add_edges_from(g_in.edges(type=\"physical\"), retain='edge_id')\n",
      "g_phy.update(g_phy, syntax=\"quagga\")\n",
      "autonetkit.update_http(anm)"
     ],
     "language": "python",
     "metadata": {},
     "outputs": [],
     "prompt_number": 2
    },
    {
     "cell_type": "markdown",
     "metadata": {},
     "source": [
      "\n",
      "\n",
      "${\\mathcal E}_{ospf} = (i,j) \\: \\forall \\: (i,j) \\in \\mathcal E \\: |  $\n",
      "\n",
      "$ \\in \\mathcal{E} | f_{asn}() = f_{asn}(j)}$ \n",
      "\n",
      "![Alt text](/path/to/img.jpg)\n"
     ]
    },
    {
     "cell_type": "code",
     "collapsed": false,
     "input": [
      "g_ospf = anm.add_overlay(\"ospf\", g_in.routers())\n",
      "g_ospf.add_edges_from((e for e in g_in.edges() if e.src.asn == e.dst.asn), retain='edge_id')\n",
      "g_ospf.update(area=0) # set defaults\n",
      "g_ospf.update_edges(area=0)\n",
      "autonetkit.update_http(anm)"
     ],
     "language": "python",
     "metadata": {},
     "outputs": [],
     "prompt_number": 3
    },
    {
     "cell_type": "markdown",
     "metadata": {},
     "source": []
    },
    {
     "cell_type": "code",
     "collapsed": false,
     "input": [
      "g_bgp = anm.add_overlay(\"bgp\", g_in.routers(), directed = True)\n",
      "autonetkit.update_http(anm)"
     ],
     "language": "python",
     "metadata": {},
     "outputs": [],
     "prompt_number": 4
    },
    {
     "cell_type": "code",
     "collapsed": false,
     "input": [],
     "language": "python",
     "metadata": {},
     "outputs": [],
     "prompt_number": 4
    },
    {
     "cell_type": "code",
     "collapsed": false,
     "input": [
      "g_bgp.add_edges_from((e for e in g_in.edges() if e.src.asn != e.dst.asn), \n",
      "    bidirectional = True, type = 'ebgp', retain='edge_id')\n",
      "autonetkit.update_http(anm)"
     ],
     "language": "python",
     "metadata": {},
     "outputs": [],
     "prompt_number": 5
    },
    {
     "cell_type": "code",
     "collapsed": false,
     "input": [],
     "language": "python",
     "metadata": {},
     "outputs": [],
     "prompt_number": 5
    },
    {
     "cell_type": "code",
     "collapsed": false,
     "input": [
      "g_bgp.add_edges_from(((s, t) for s in g_bgp for t in g_bgp \n",
      "    if s.asn == t.asn and s is not t), type = 'ibgp')\n",
      "autonetkit.update_http(anm)"
     ],
     "language": "python",
     "metadata": {},
     "outputs": [],
     "prompt_number": 6
    },
    {
     "cell_type": "code",
     "collapsed": false,
     "input": [],
     "language": "python",
     "metadata": {},
     "outputs": [],
     "prompt_number": 6
    },
    {
     "cell_type": "code",
     "collapsed": false,
     "input": [
      "import autonetkit.ank_messaging as ank_messaging\n"
     ],
     "language": "python",
     "metadata": {},
     "outputs": [],
     "prompt_number": 7
    },
    {
     "cell_type": "heading",
     "level": 2,
     "metadata": {},
     "source": [
      "Highlighting nodes and edges"
     ]
    },
    {
     "cell_type": "markdown",
     "metadata": {},
     "source": [
      "We can use the highlight function to highlight nodes and edges in the visualization.\n"
     ]
    },
    {
     "cell_type": "code",
     "collapsed": false,
     "input": [
      "asn = 30 # change me\n",
      "nodes = [n for n in g_bgp if n.asn == asn]\n",
      "edges = [e for e in g_bgp.edges() if e.dst.asn == asn and e.type == 'ebgp']\n",
      "ank_messaging.highlight(nodes, edges)"
     ],
     "language": "python",
     "metadata": {},
     "outputs": [],
     "prompt_number": 8
    },
    {
     "cell_type": "heading",
     "level": 2,
     "metadata": {},
     "source": [
      "Using NetworkX for Graph Analysis"
     ]
    },
    {
     "cell_type": "markdown",
     "metadata": {},
     "source": [
      "We can use NetworkX Algorithms such as shortest path. \n",
      "\n",
      "1. First we need to unwrap the graph to access the underlying NetworkX graph. \n",
      "2. We can then perform functions, which return a list of nodes.\n",
      "3. We turn this list of nodes on the path into a list of edges, eg [a, b, c, d] -> [(a, b), (b, c), (c, d)]\n",
      "4. We then use the ANK selection function to convert this list to edges\n",
      "5. We use the highlight function of the messaging module to send it to the webservice."
     ]
    },
    {
     "cell_type": "code",
     "collapsed": false,
     "input": [
      "from autonetkit.ank_utils import unwrap_graph, unwrap_nodes\n",
      "\n",
      "import networkx as nx\n",
      "graph = unwrap_graph(g_phy)\n",
      "\n",
      "nodes = [n for n in graph]\n",
      "from random import choice\n",
      "\n",
      "src = choice(nodes)\n",
      "dst = choice(nodes)\n",
      "#(src, dst) = ('as100r1', 'as1r1')\n",
      "path = nx.shortest_path(graph, src, dst)\n",
      "\n",
      "ebunch = zip(path[0:-1], path[1:])\n",
      "edges = [g_phy.edge(s, t) for (s, t) in ebunch]\n",
      "nodes = [src, dst]\n",
      "ank_messaging.highlight(nodes, edges)"
     ],
     "language": "python",
     "metadata": {},
     "outputs": [],
     "prompt_number": 9
    },
    {
     "cell_type": "markdown",
     "metadata": {},
     "source": [
      "We can also use other graph algorithms, such as the Minimum Spanning Tree."
     ]
    },
    {
     "cell_type": "code",
     "collapsed": false,
     "input": [
      "graph = unwrap_graph(g_ospf)\n",
      "T = nx.minimum_spanning_tree(graph)\n",
      "edges = [g_phy.edge(s, t) for (s, t) in  T.edges()]\n",
      "ank_messaging.highlight([], edges)"
     ],
     "language": "python",
     "metadata": {},
     "outputs": [],
     "prompt_number": 10
    },
    {
     "cell_type": "markdown",
     "metadata": {},
     "source": [
      "Now let's perform using the edge weight.\n",
      "\n",
      "Since we are using an iBGP graph, it makes sense to use a larger network than the small_internet, which has at most 4 nodes per AS.\n",
      "\n",
      "Another network to use would be singleas.graphml to do so, change the first cell above, and rerun the code.\n",
      "\n",
      "We want to copy across the edge attribute *ospf_cost* from the input graph, and store it as the *cost* attribute on the ospf graph.\n",
      "\n",
      "Since the underlying data structure is NetworkX, these attributes will be present when we unwrap the graph.\n",
      "\n",
      "We can now add the 'weight' parameter to the MST function call. The rest of the code proceeds are before."
     ]
    },
    {
     "cell_type": "code",
     "collapsed": false,
     "input": [
      "import autonetkit.ank as ank_utils\n",
      "ank_utils.copy_edge_attr_from(g_in, g_ospf, \"ospf_cost\", dst_attr=\"cost\", type=float)\n",
      "autonetkit.update_http(anm)\n",
      "\n",
      "graph = unwrap_graph(g_ospf)\n",
      "\n",
      "T = nx.minimum_spanning_tree(graph, weight = 'cost')\n",
      "edges = [g_phy.edge(s, t) for (s, t) in  T.edges()]  \n",
      "ank_messaging.highlight([], edges)"
     ],
     "language": "python",
     "metadata": {},
     "outputs": [],
     "prompt_number": 11
    },
    {
     "cell_type": "code",
     "collapsed": false,
     "input": [
      "asn = 20\n",
      "nbunch = unwrap_nodes(g_bgp.nodes(asn=asn))\n",
      "\n",
      "graph_bgp = unwrap_graph(g_bgp)\n",
      "bgp_neighbors = nx.node_boundary(graph_bgp, nbunch)\n",
      "ank_messaging.highlight(bgp_neighbors, [])"
     ],
     "language": "python",
     "metadata": {},
     "outputs": [],
     "prompt_number": 12
    },
    {
     "cell_type": "markdown",
     "metadata": {},
     "source": [
      "Using costs for SPF"
     ]
    },
    {
     "cell_type": "code",
     "collapsed": false,
     "input": [
      "nodes = [n for n in graph]\n",
      "from random import choice\n",
      "graph = unwrap_graph(g_ospf)\n",
      "\n",
      "src = choice(nodes)\n",
      "dst = choice(nodes)\n",
      "#(src, dst) = ('r8', 'r1')\n",
      "path = nx.shortest_path(graph, src, dst, weight = 'cost')\n",
      "\n",
      "ebunch = zip(path[0:-1], path[1:])\n",
      "edges = [g_phy.edge(s, t) for (s, t) in ebunch]\n",
      "nodes = [src, dst]\n",
      "ank_messaging.highlight(nodes, edges)"
     ],
     "language": "python",
     "metadata": {},
     "outputs": [],
     "prompt_number": 13
    },
    {
     "cell_type": "code",
     "collapsed": false,
     "input": [
      "nodes = [n for n in graph]\n",
      "src = choice(nodes)\n",
      "dst = choice(nodes)\n",
      "#(src, dst) = ('as100r1', 'as1r1')\n",
      "\n",
      "flow = nx.max_flow(graph, src, dst, capacity = 'cost')\n",
      "print flow"
     ],
     "language": "python",
     "metadata": {},
     "outputs": [
      {
       "output_type": "stream",
       "stream": "stdout",
       "text": [
        "2.0\n"
       ]
      }
     ],
     "prompt_number": 14
    },
    {
     "cell_type": "code",
     "collapsed": false,
     "input": [
      "import autonetkit.plugins.ipv4 as ipv4\n",
      "import autonetkit.ank as ank\n",
      "\n",
      "g_ipv4 = anm.add_overlay(\"ipv4\")\n",
      "G_in = anm['input']\n",
      "G_graphics = anm['graphics']\n",
      "G_phy = anm['phy']\n",
      "\n",
      "g_ipv4.add_nodes_from(G_in)\n",
      "g_ipv4.add_edges_from(G_in.edges(type=\"physical\"))\n",
      "\n",
      "ank.aggregate_nodes(g_ipv4, g_ipv4.nodes(\"is_switch\"), retain = \"edge_id\")\n",
      "\n",
      "edges_to_split = [edge for edge in g_ipv4.edges() if edge.attr_both(\"is_l3device\")]\n",
      "split_created_nodes = list(ank.split(g_ipv4, edges_to_split, retain='edge_id'))\n",
      "for node in split_created_nodes:\n",
      "    node['graphics'].x = ank.neigh_average(g_ipv4, node, \"x\", G_graphics)\n",
      "    node['graphics'].y = ank.neigh_average(g_ipv4, node, \"y\", G_graphics)\n",
      "\n",
      "g_ipv4.update(split_created_nodes, collision_domain=True)\n",
      "\n",
      "for node in g_ipv4.nodes(\"collision_domain\"):\n",
      "    graphics_node = G_graphics.node(node)\n",
      "    node.host = G_phy.node(node.neighbors().next()).host # Set host to be same as one of the neighbors (arbitrary choice)\n",
      "    asn = ank.neigh_most_frequent(g_ipv4, node, \"asn\", G_phy) # arbitrary choice\n",
      "    node.asn = asn\n",
      "    graphics_node.asn = asn\n",
      "    graphics_node.x = ank.neigh_average(g_ipv4, node, \"x\", G_graphics)\n",
      "\n",
      "    graphics_node.device_type = \"collision_domain\"\n",
      "    cd_label = \"cd_\" + \"_\".join(sorted(ank.neigh_attr(g_ipv4, node, \"label\", G_phy)))\n",
      "    node.label = cd_label \n",
      "    graphics_node.label = cd_label\n",
      "\n",
      "ipv4.allocate_ips(g_ipv4)\n",
      "autonetkit.update_http(anm)\n"
     ],
     "language": "python",
     "metadata": {},
     "outputs": [
      {
       "output_type": "stream",
       "stream": "stderr",
       "text": [
        "\u001b[1;37mINFO\u001b[0m Allocating Primary Host loopback IPs\n"
       ]
      },
      {
       "output_type": "stream",
       "stream": "stderr",
       "text": [
        "\u001b[1;37mINFO\u001b[0m Allocating Secondary Host loopback IPs\n"
       ]
      },
      {
       "output_type": "stream",
       "stream": "stderr",
       "text": [
        "\u001b[1;37mINFO\u001b[0m Allocating Collision Domain IPs\n"
       ]
      }
     ],
     "prompt_number": 15
    },
    {
     "cell_type": "code",
     "collapsed": false,
     "input": [
      "import autonetkit.plugins.ipv6 as ipv6\n",
      "# uses the nodes and edges from ipv4\n",
      "g_ipv6 = anm.add_overlay(\"ipv6\")\n",
      "g_ipv4 = anm['ipv4']\n",
      "g_ipv6.add_nodes_from(\n",
      "    g_ipv4, retain=\"collision_domain\")  # retain if collision domain or not\n",
      "g_ipv6.add_edges_from(g_ipv4.edges())\n",
      "ipv6.allocate_ips(g_ipv6)\n",
      "autonetkit.update_http(anm)"
     ],
     "language": "python",
     "metadata": {},
     "outputs": [
      {
       "output_type": "stream",
       "stream": "stderr",
       "text": [
        "\u001b[1;37mINFO\u001b[0m Allocating Host loopback IPs\n"
       ]
      }
     ],
     "prompt_number": 16
    },
    {
     "cell_type": "code",
     "collapsed": false,
     "input": [
      "nidb = autonetkit.nidb.NIDB() \n",
      "G_phy = anm['phy']\n",
      "G_ip = anm['ipv4']\n",
      "G_graphics = anm['graphics']\n",
      "\n",
      "nidb.add_nodes_from(G_phy, retain=['label', 'host', 'platform', 'syntax', 'Network', 'update'])\n",
      "\n",
      "cd_nodes = G_ip.nodes(\"collision_domain\") # Only add created cds - otherwise overwrite host of switched\n",
      "nidb.add_nodes_from(cd_nodes, retain=['label', 'host'], collision_domain = True)\n",
      "edges_to_add = [edge for edge in G_ip.edges() if edge.src.collision_domain or edge.dst.collision_domain]\n",
      "nidb.add_edges_from(edges_to_add, retain='edge_id')\n",
      "\n",
      "nidb.copy_graphics(G_graphics)\n",
      "autonetkit.update_http(anm, nidb)"
     ],
     "language": "python",
     "metadata": {},
     "outputs": [],
     "prompt_number": 17
    },
    {
     "cell_type": "code",
     "collapsed": false,
     "input": [
      "import autonetkit.compiler\n",
      "\n",
      "anm.add_overlay(\"isis\")\n",
      "autonetkit.update_http(anm, nidb)\n",
      "\n",
      "host = \"localhost\"\n",
      "nk_compiler = autonetkit.compiler.NetkitCompiler(nidb, anm, host)\n",
      "nk_compiler.compile()\n",
      "nidb.save()"
     ],
     "language": "python",
     "metadata": {},
     "outputs": [
      {
       "output_type": "stream",
       "stream": "stderr",
       "text": [
        "\u001b[1;37mINFO\u001b[0m Compiling Netkit for localhost\n"
       ]
      }
     ],
     "prompt_number": 18
    },
    {
     "cell_type": "code",
     "collapsed": false,
     "input": [
      "import autonetkit.render\n",
      "autonetkit.render.render(nidb)"
     ],
     "language": "python",
     "metadata": {},
     "outputs": [
      {
       "output_type": "stream",
       "stream": "stderr",
       "text": [
        "\u001b[1;37mINFO\u001b[0m Rendering Network\n"
       ]
      }
     ],
     "prompt_number": 19
    },
    {
     "cell_type": "code",
     "collapsed": false,
     "input": [
      "import os\n",
      "dst_folder = nidb.topology['localhost'].render_dst_folder\n",
      "for path, dirs, files in os.walk(dst_folder):\n",
      "  print path\n",
      "  for f in files:\n",
      "    print \"\\t\", f"
     ],
     "language": "python",
     "metadata": {},
     "outputs": [
      {
       "output_type": "stream",
       "stream": "stdout",
       "text": [
        "rendered/localhost/netkit\n",
        "\tlab.conf\n",
        "\tr1.startup\n",
        "\tr10.startup\n",
        "\tr11.startup\n",
        "\tr12.startup\n",
        "\tr13.startup\n",
        "\tr14.startup\n",
        "\tr15.startup\n",
        "\tr16.startup\n",
        "\tr17.startup\n",
        "\tr18.startup\n",
        "\tr19.startup\n",
        "\tr2.startup\n",
        "\tr20.startup\n",
        "\tr21.startup\n",
        "\tr3.startup\n",
        "\tr4.startup\n",
        "\tr5.startup\n",
        "\tr6.startup\n",
        "\tr8.startup\n",
        "\tr9.startup\n",
        "rendered/localhost/netkit/r1\n",
        "rendered/localhost/netkit/r1/etc\n",
        "\thostname\n",
        "\tshadow\n",
        "rendered/localhost/netkit/r1/etc/ssh\n",
        "\tsshd_config\n",
        "rendered/localhost/netkit/r1/etc/zebra\n",
        "\tbgpd.conf\n",
        "\tdaemons\n",
        "\tisisd.conf\n",
        "\tmotd.txt\n",
        "\tospfd.conf\n",
        "\tzebra.conf\n",
        "rendered/localhost/netkit/r1/root\n",
        "rendered/localhost/netkit/r1/root/.ssh\n",
        "\tauthorized_keys\n",
        "rendered/localhost/netkit/r10\n",
        "rendered/localhost/netkit/r10/etc\n",
        "\thostname\n",
        "\tshadow\n",
        "rendered/localhost/netkit/r10/etc/ssh\n",
        "\tsshd_config\n",
        "rendered/localhost/netkit/r10/etc/zebra\n",
        "\tbgpd.conf\n",
        "\tdaemons\n",
        "\tisisd.conf\n",
        "\tmotd.txt\n",
        "\tospfd.conf\n",
        "\tzebra.conf\n",
        "rendered/localhost/netkit/r10/root\n",
        "rendered/localhost/netkit/r10/root/.ssh\n",
        "\tauthorized_keys\n",
        "rendered/localhost/netkit/r11\n",
        "rendered/localhost/netkit/r11/etc\n",
        "\thostname\n",
        "\tshadow\n",
        "rendered/localhost/netkit/r11/etc/ssh\n",
        "\tsshd_config\n",
        "rendered/localhost/netkit/r11/etc/zebra\n",
        "\tbgpd.conf\n",
        "\tdaemons\n",
        "\tisisd.conf\n",
        "\tmotd.txt\n",
        "\tospfd.conf\n",
        "\tzebra.conf\n",
        "rendered/localhost/netkit/r11/root\n",
        "rendered/localhost/netkit/r11/root/.ssh\n",
        "\tauthorized_keys\n",
        "rendered/localhost/netkit/r12\n",
        "rendered/localhost/netkit/r12/etc\n",
        "\thostname\n",
        "\tshadow\n",
        "rendered/localhost/netkit/r12/etc/ssh\n",
        "\tsshd_config\n",
        "rendered/localhost/netkit/r12/etc/zebra\n",
        "\tbgpd.conf\n",
        "\tdaemons\n",
        "\tisisd.conf\n",
        "\tmotd.txt\n",
        "\tospfd.conf\n",
        "\tzebra.conf\n",
        "rendered/localhost/netkit/r12/root\n",
        "rendered/localhost/netkit/r12/root/.ssh\n",
        "\tauthorized_keys\n",
        "rendered/localhost/netkit/r13\n",
        "rendered/localhost/netkit/r13/etc\n",
        "\thostname\n",
        "\tshadow\n",
        "rendered/localhost/netkit/r13/etc/ssh\n",
        "\tsshd_config\n",
        "rendered/localhost/netkit/r13/etc/zebra\n",
        "\tbgpd.conf\n",
        "\tdaemons\n",
        "\tisisd.conf\n",
        "\tmotd.txt\n",
        "\tospfd.conf\n",
        "\tzebra.conf\n",
        "rendered/localhost/netkit/r13/root\n",
        "rendered/localhost/netkit/r13/root/.ssh\n",
        "\tauthorized_keys\n",
        "rendered/localhost/netkit/r14\n",
        "rendered/localhost/netkit/r14/etc\n",
        "\thostname\n",
        "\tshadow\n",
        "rendered/localhost/netkit/r14/etc/ssh\n",
        "\tsshd_config\n",
        "rendered/localhost/netkit/r14/etc/zebra\n",
        "\tbgpd.conf\n",
        "\tdaemons\n",
        "\tisisd.conf\n",
        "\tmotd.txt\n",
        "\tospfd.conf\n",
        "\tzebra.conf\n",
        "rendered/localhost/netkit/r14/root\n",
        "rendered/localhost/netkit/r14/root/.ssh\n",
        "\tauthorized_keys\n",
        "rendered/localhost/netkit/r15\n",
        "rendered/localhost/netkit/r15/etc\n",
        "\thostname\n",
        "\tshadow\n",
        "rendered/localhost/netkit/r15/etc/ssh\n",
        "\tsshd_config\n",
        "rendered/localhost/netkit/r15/etc/zebra\n",
        "\tbgpd.conf\n",
        "\tdaemons\n",
        "\tisisd.conf\n",
        "\tmotd.txt\n",
        "\tospfd.conf\n",
        "\tzebra.conf\n",
        "rendered/localhost/netkit/r15/root\n",
        "rendered/localhost/netkit/r15/root/.ssh\n",
        "\tauthorized_keys\n",
        "rendered/localhost/netkit/r16\n",
        "rendered/localhost/netkit/r16/etc\n",
        "\thostname\n",
        "\tshadow\n",
        "rendered/localhost/netkit/r16/etc/ssh\n",
        "\tsshd_config\n",
        "rendered/localhost/netkit/r16/etc/zebra\n",
        "\tbgpd.conf\n",
        "\tdaemons\n",
        "\tisisd.conf\n",
        "\tmotd.txt\n",
        "\tospfd.conf\n",
        "\tzebra.conf\n",
        "rendered/localhost/netkit/r16/root\n",
        "rendered/localhost/netkit/r16/root/.ssh\n",
        "\tauthorized_keys\n",
        "rendered/localhost/netkit/r17\n",
        "rendered/localhost/netkit/r17/etc\n",
        "\thostname\n",
        "\tshadow\n",
        "rendered/localhost/netkit/r17/etc/ssh\n",
        "\tsshd_config\n",
        "rendered/localhost/netkit/r17/etc/zebra\n",
        "\tbgpd.conf\n",
        "\tdaemons\n",
        "\tisisd.conf\n",
        "\tmotd.txt\n",
        "\tospfd.conf\n",
        "\tzebra.conf\n",
        "rendered/localhost/netkit/r17/root\n",
        "rendered/localhost/netkit/r17/root/.ssh\n",
        "\tauthorized_keys\n",
        "rendered/localhost/netkit/r18\n",
        "rendered/localhost/netkit/r18/etc\n",
        "\thostname\n",
        "\tshadow\n",
        "rendered/localhost/netkit/r18/etc/ssh\n",
        "\tsshd_config\n",
        "rendered/localhost/netkit/r18/etc/zebra\n",
        "\tbgpd.conf\n",
        "\tdaemons\n",
        "\tisisd.conf\n",
        "\tmotd.txt\n",
        "\tospfd.conf\n",
        "\tzebra.conf\n",
        "rendered/localhost/netkit/r18/root\n",
        "rendered/localhost/netkit/r18/root/.ssh\n",
        "\tauthorized_keys\n",
        "rendered/localhost/netkit/r19\n",
        "rendered/localhost/netkit/r19/etc\n",
        "\thostname\n",
        "\tshadow\n",
        "rendered/localhost/netkit/r19/etc/ssh\n",
        "\tsshd_config\n",
        "rendered/localhost/netkit/r19/etc/zebra\n",
        "\tbgpd.conf\n",
        "\tdaemons\n",
        "\tisisd.conf\n",
        "\tmotd.txt\n",
        "\tospfd.conf\n",
        "\tzebra.conf\n",
        "rendered/localhost/netkit/r19/root\n",
        "rendered/localhost/netkit/r19/root/.ssh\n",
        "\tauthorized_keys\n",
        "rendered/localhost/netkit/r2\n",
        "rendered/localhost/netkit/r2/etc\n",
        "\thostname\n",
        "\tshadow\n",
        "rendered/localhost/netkit/r2/etc/ssh\n",
        "\tsshd_config\n",
        "rendered/localhost/netkit/r2/etc/zebra\n",
        "\tbgpd.conf\n",
        "\tdaemons\n",
        "\tisisd.conf\n",
        "\tmotd.txt\n",
        "\tospfd.conf\n",
        "\tzebra.conf\n",
        "rendered/localhost/netkit/r2/root\n",
        "rendered/localhost/netkit/r2/root/.ssh\n",
        "\tauthorized_keys\n",
        "rendered/localhost/netkit/r20\n",
        "rendered/localhost/netkit/r20/etc\n",
        "\thostname\n",
        "\tshadow\n",
        "rendered/localhost/netkit/r20/etc/ssh\n",
        "\tsshd_config\n",
        "rendered/localhost/netkit/r20/etc/zebra\n",
        "\tbgpd.conf\n",
        "\tdaemons\n",
        "\tisisd.conf\n",
        "\tmotd.txt\n",
        "\tospfd.conf\n",
        "\tzebra.conf\n",
        "rendered/localhost/netkit/r20/root\n",
        "rendered/localhost/netkit/r20/root/.ssh\n",
        "\tauthorized_keys\n",
        "rendered/localhost/netkit/r21\n",
        "rendered/localhost/netkit/r21/etc\n",
        "\thostname\n",
        "\tshadow\n",
        "rendered/localhost/netkit/r21/etc/ssh\n",
        "\tsshd_config\n",
        "rendered/localhost/netkit/r21/etc/zebra\n",
        "\tbgpd.conf\n",
        "\tdaemons\n",
        "\tisisd.conf\n",
        "\tmotd.txt\n",
        "\tospfd.conf\n",
        "\tzebra.conf\n",
        "rendered/localhost/netkit/r21/root\n",
        "rendered/localhost/netkit/r21/root/.ssh\n",
        "\tauthorized_keys\n",
        "rendered/localhost/netkit/r3\n",
        "rendered/localhost/netkit/r3/etc\n",
        "\thostname\n",
        "\tshadow\n",
        "rendered/localhost/netkit/r3/etc/ssh\n",
        "\tsshd_config\n",
        "rendered/localhost/netkit/r3/etc/zebra\n",
        "\tbgpd.conf\n",
        "\tdaemons\n",
        "\tisisd.conf\n",
        "\tmotd.txt\n",
        "\tospfd.conf\n",
        "\tzebra.conf\n",
        "rendered/localhost/netkit/r3/root\n",
        "rendered/localhost/netkit/r3/root/.ssh\n",
        "\tauthorized_keys\n",
        "rendered/localhost/netkit/r4\n",
        "rendered/localhost/netkit/r4/etc\n",
        "\thostname\n",
        "\tshadow\n",
        "rendered/localhost/netkit/r4/etc/ssh\n",
        "\tsshd_config\n",
        "rendered/localhost/netkit/r4/etc/zebra\n",
        "\tbgpd.conf\n",
        "\tdaemons\n",
        "\tisisd.conf\n",
        "\tmotd.txt\n",
        "\tospfd.conf\n",
        "\tzebra.conf\n",
        "rendered/localhost/netkit/r4/root\n",
        "rendered/localhost/netkit/r4/root/.ssh\n",
        "\tauthorized_keys\n",
        "rendered/localhost/netkit/r5\n",
        "rendered/localhost/netkit/r5/etc\n",
        "\thostname\n",
        "\tshadow\n",
        "rendered/localhost/netkit/r5/etc/ssh\n",
        "\tsshd_config\n",
        "rendered/localhost/netkit/r5/etc/zebra\n",
        "\tbgpd.conf\n",
        "\tdaemons\n",
        "\tisisd.conf\n",
        "\tmotd.txt\n",
        "\tospfd.conf\n",
        "\tzebra.conf\n",
        "rendered/localhost/netkit/r5/root\n",
        "rendered/localhost/netkit/r5/root/.ssh\n",
        "\tauthorized_keys\n",
        "rendered/localhost/netkit/r6\n",
        "rendered/localhost/netkit/r6/etc\n",
        "\thostname\n",
        "\tshadow\n",
        "rendered/localhost/netkit/r6/etc/ssh\n",
        "\tsshd_config\n",
        "rendered/localhost/netkit/r6/etc/zebra\n",
        "\tbgpd.conf\n",
        "\tdaemons\n",
        "\tisisd.conf\n",
        "\tmotd.txt\n",
        "\tospfd.conf\n",
        "\tzebra.conf\n",
        "rendered/localhost/netkit/r6/root\n",
        "rendered/localhost/netkit/r6/root/.ssh\n",
        "\tauthorized_keys\n",
        "rendered/localhost/netkit/r8\n",
        "rendered/localhost/netkit/r8/etc\n",
        "\thostname\n",
        "\tshadow\n",
        "rendered/localhost/netkit/r8/etc/ssh\n",
        "\tsshd_config\n",
        "rendered/localhost/netkit/r8/etc/zebra\n",
        "\tbgpd.conf\n",
        "\tdaemons\n",
        "\tisisd.conf\n",
        "\tmotd.txt\n",
        "\tospfd.conf\n",
        "\tzebra.conf\n",
        "rendered/localhost/netkit/r8/root\n",
        "rendered/localhost/netkit/r8/root/.ssh\n",
        "\tauthorized_keys\n",
        "rendered/localhost/netkit/r9\n",
        "rendered/localhost/netkit/r9/etc\n",
        "\thostname\n",
        "\tshadow\n",
        "rendered/localhost/netkit/r9/etc/ssh\n",
        "\tsshd_config\n",
        "rendered/localhost/netkit/r9/etc/zebra\n",
        "\tbgpd.conf\n",
        "\tdaemons\n",
        "\tisisd.conf\n",
        "\tmotd.txt\n",
        "\tospfd.conf\n",
        "\tzebra.conf\n",
        "rendered/localhost/netkit/r9/root\n",
        "rendered/localhost/netkit/r9/root/.ssh\n",
        "\tauthorized_keys\n"
       ]
      }
     ],
     "prompt_number": 20
    },
    {
     "cell_type": "code",
     "collapsed": false,
     "input": [
      "username = \"sk2\"\n",
      "host = \"192.168.255.129\"\n",
      "\n",
      "import autonetkit.deploy.netkit as nk_deploy\n",
      "dst_folder = nidb.topology['localhost'].render_dst_folder\n",
      "nk_deploy.deploy(host, username, dst_folder)"
     ],
     "language": "python",
     "metadata": {},
     "outputs": [
      {
       "output_type": "stream",
       "stream": "stderr",
       "text": [
        "\u001b[1;37mINFO\u001b[0m Packaging rendered/localhost/netkit\n"
       ]
      },
      {
       "output_type": "stream",
       "stream": "stderr",
       "text": [
        "\u001b[1;37mINFO\u001b[0m Transferring Netkit lab\n"
       ]
      },
      {
       "output_type": "stream",
       "stream": "stderr",
       "text": [
        "\u001b[1;37mINFO\u001b[0m Connecting to 192.168.255.129 with sk2\n"
       ]
      },
      {
       "output_type": "stream",
       "stream": "stderr",
       "text": [
        "\u001b[1;37mINFO\u001b[0m Extracting and starting Netkit lab\n"
       ]
      },
      {
       "output_type": "stream",
       "stream": "stderr",
       "text": [
        "\u001b[1;37mINFO\u001b[0m Starting lab\n"
       ]
      },
      {
       "output_type": "stream",
       "stream": "stderr",
       "text": [
        "\u001b[1;37mINFO\u001b[0m Starting \"r1\"...\u001b[0m\n"
       ]
      },
      {
       "output_type": "stream",
       "stream": "stderr",
       "text": [
        "\u001b[1;37mINFO\u001b[0m Starting \"r3\"...\u001b[0m\n"
       ]
      },
      {
       "output_type": "stream",
       "stream": "stderr",
       "text": [
        "\u001b[1;37mINFO\u001b[0m Starting \"r4\"...\u001b[0m\n"
       ]
      },
      {
       "output_type": "stream",
       "stream": "stderr",
       "text": [
        "\u001b[1;37mINFO\u001b[0m Starting \"r2\"...\u001b[0m\n"
       ]
      },
      {
       "output_type": "stream",
       "stream": "stderr",
       "text": [
        "\u001b[1;37mINFO\u001b[0m Starting \"r5\"...\u001b[0m\n"
       ]
      },
      {
       "output_type": "stream",
       "stream": "stderr",
       "text": [
        "\u001b[1;37mINFO\u001b[0m Starting \"r6\"...\u001b[0m\n"
       ]
      },
      {
       "output_type": "stream",
       "stream": "stderr",
       "text": [
        "\u001b[1;37mINFO\u001b[0m Starting \"r8\"...\u001b[0m\n"
       ]
      },
      {
       "output_type": "stream",
       "stream": "stderr",
       "text": [
        "\u001b[1;37mINFO\u001b[0m Starting \"r9\"...\u001b[0m\n"
       ]
      },
      {
       "output_type": "stream",
       "stream": "stderr",
       "text": [
        "\u001b[1;37mINFO\u001b[0m Starting \"r10\"...\u001b[0m\n"
       ]
      },
      {
       "output_type": "stream",
       "stream": "stderr",
       "text": [
        "\u001b[1;37mINFO\u001b[0m Starting \"r11\"...\u001b[0m\n"
       ]
      },
      {
       "output_type": "stream",
       "stream": "stderr",
       "text": [
        "\u001b[1;37mINFO\u001b[0m Starting \"r12\"...\u001b[0m\n"
       ]
      },
      {
       "output_type": "stream",
       "stream": "stderr",
       "text": [
        "\u001b[1;37mINFO\u001b[0m Starting \"r13\"...\u001b[0m\n"
       ]
      },
      {
       "output_type": "stream",
       "stream": "stderr",
       "text": [
        "\u001b[1;37mINFO\u001b[0m Starting \"r14\"...\u001b[0m\n"
       ]
      },
      {
       "output_type": "stream",
       "stream": "stderr",
       "text": [
        "\u001b[1;37mINFO\u001b[0m Starting \"r15\"...\u001b[0m\n"
       ]
      },
      {
       "output_type": "stream",
       "stream": "stderr",
       "text": [
        "\u001b[1;37mINFO\u001b[0m Starting \"r16\"...\u001b[0m\n"
       ]
      },
      {
       "output_type": "stream",
       "stream": "stderr",
       "text": [
        "\u001b[1;37mINFO\u001b[0m Starting \"r17\"...\u001b[0m\n"
       ]
      },
      {
       "output_type": "stream",
       "stream": "stderr",
       "text": [
        "\u001b[1;37mINFO\u001b[0m Starting \"r18\"...\u001b[0m\n"
       ]
      },
      {
       "output_type": "stream",
       "stream": "stderr",
       "text": [
        "\u001b[1;37mINFO\u001b[0m Starting \"r19\"...\u001b[0m\n"
       ]
      },
      {
       "output_type": "stream",
       "stream": "stderr",
       "text": [
        "\u001b[1;37mINFO\u001b[0m Starting \"r20\"...\u001b[0m\n"
       ]
      },
      {
       "output_type": "stream",
       "stream": "stderr",
       "text": [
        "\u001b[1;37mINFO\u001b[0m Starting \"r21\"...\u001b[0m\n"
       ]
      }
     ],
     "prompt_number": 21
    },
    {
     "cell_type": "code",
     "collapsed": false,
     "input": [
      "a = 4\n",
      "a = a + 1"
     ],
     "language": "python",
     "metadata": {},
     "outputs": []
    },
    {
     "cell_type": "markdown",
     "metadata": {},
     "source": [
      "Measure requires a remote host to be setup, and rabbitmq running, (by default ank will look on localhost)\n",
      " http://www.rabbitmq.com/install-debian.html\n",
      "\n",
      " or for OS X: http://superuser.com/questions/464311/open-port-5672-tcp-for-access-to-rabbitmq-on-mac\n",
      "\n",
      " and\n",
      "\n",
      "     pip install pika\n",
      "     pip install https://github.com/knipknap/exscript/tarball/master\n",
      "\n",
      " note this needs paramiko... which needs to compile. if you don't have python headers, eg in ubuntu: \n",
      "\n",
      "    sudo apt-get install python-dev\n",
      "\n",
      "     wget https://raw.github.com/sk2/autonetkit/master/autonetkit/measure_client.py\n",
      "\n",
      "     sk2@ubuntu:~$ python measure_client.py --server 192.168.255.1\n",
      " \n",
      "where --server specifies the rabbitmq server\n",
      " can also use through ANK package:\n",
      " install ank through github, then install Exscript\n",
      "\n",
      "Can then run the below measurement commands"
     ]
    },
    {
     "cell_type": "code",
     "collapsed": false,
     "input": [
      "import autonetkit.measure as measure\n",
      "import random\n",
      "\n",
      "remote_hosts = [node.tap.ip for node in nidb.routers() ]\n",
      "\n",
      "dest_node = random.choice(list(nidb.routers()))\n",
      "\n",
      "dest_ip = dest_node.interfaces[0].ipv4_address # choose random interface on this node\n",
      "command = \"traceroute -n -a -U -w 0.5 %s\" % dest_ip \n",
      "\n",
      "measure.send(nidb, command, remote_hosts)"
     ],
     "language": "python",
     "metadata": {},
     "outputs": [
      {
       "output_type": "stream",
       "stream": "stderr",
       "text": [
        "\u001b[1;37mINFO\u001b[0m Trace from r21 to r16\n"
       ]
      },
      {
       "output_type": "stream",
       "stream": "stderr",
       "text": [
        "\u001b[1;37mINFO\u001b[0m 'traceroute -n -a -U -w 0.5 10.0.128.38\n",
        "traceroute to 10.0.128.38 (10.0.128.38), 64 hops max, 40 byte packets\n",
        " 1  10.0.128.41  5 ms\n",
        " 2  10.0.128.38  4 ms\n",
        "r21:~# '\n"
       ]
      },
      {
       "output_type": "stream",
       "stream": "stderr",
       "text": [
        "\u001b[1;37mINFO\u001b[0m [r21, r11, r16]\n"
       ]
      },
      {
       "output_type": "stream",
       "stream": "stderr",
       "text": [
        "\u001b[1;37mINFO\u001b[0m Trace from r16 to r16\n"
       ]
      },
      {
       "output_type": "stream",
       "stream": "stderr",
       "text": [
        "\u001b[1;37mINFO\u001b[0m 'traceroute -n -a -U -w 0.5 10.0.128.38\n",
        "traceroute to 10.0.128.38 (10.0.128.38), 64 hops max, 40 byte packets\n",
        " 1  10.0.128.38  0 ms\n",
        "r16:~# '\n"
       ]
      },
      {
       "output_type": "stream",
       "stream": "stderr",
       "text": [
        "\u001b[1;37mINFO\u001b[0m [r16, r16]\n"
       ]
      },
      {
       "output_type": "stream",
       "stream": "stderr",
       "text": [
        "\u001b[1;37mINFO\u001b[0m Trace from r20 to r16\n"
       ]
      },
      {
       "output_type": "stream",
       "stream": "stderr",
       "text": [
        "\u001b[1;37mINFO\u001b[0m 'traceroute -n -a -U -w 0.5 10.0.128.38\n",
        "traceroute to 10.0.128.38 (10.0.128.38), 64 hops max, 40 byte packets\n",
        " 1  10.0.0.13  2 ms\n",
        " 2  10.0.0.42  1 ms\n",
        " 3  10.0.0.26  1 ms\n",
        " 4  10.0.0.38  1 ms\n",
        " 5  10.0.128.53  1 ms\n",
        " 6  10.0.0.6  2 ms\n",
        " 7  10.0.128.34  2 ms\n",
        " 8  10.0.128.38  2 ms\n",
        "r20:~# '\n"
       ]
      },
      {
       "output_type": "stream",
       "stream": "stderr",
       "text": [
        "\u001b[1;37mINFO\u001b[0m [r20, r12, r5, r9, r18, r17, r14, r2, r16]\n"
       ]
      },
      {
       "output_type": "stream",
       "stream": "stderr",
       "text": [
        "\u001b[1;37mINFO\u001b[0m Trace from r17 to r16\n"
       ]
      },
      {
       "output_type": "stream",
       "stream": "stderr",
       "text": [
        "\u001b[1;37mINFO\u001b[0m 'traceroute -n -a -U -w 0.5 10.0.128.38\n",
        "traceroute to 10.0.128.38 (10.0.128.38), 64 hops max, 40 byte packets\n",
        " 1  10.0.0.6  3 ms\n",
        " 2  10.0.128.34  1 ms\n",
        " 3  10.0.128.38  2 ms\n",
        "r17:~# '\n"
       ]
      },
      {
       "output_type": "stream",
       "stream": "stderr",
       "text": [
        "\u001b[1;37mINFO\u001b[0m [r17, r14, r2, r16]\n"
       ]
      },
      {
       "output_type": "stream",
       "stream": "stderr",
       "text": [
        "\u001b[1;37mINFO\u001b[0m Trace from r14 to r16\n"
       ]
      },
      {
       "output_type": "stream",
       "stream": "stderr",
       "text": [
        "\u001b[1;37mINFO\u001b[0m 'traceroute -n -a -U -w 0.5 10.0.128.38\n",
        "traceroute to 10.0.128.38 (10.0.128.38), 64 hops max, 40 byte packets\n",
        " 1  10.0.0.62  0 ms\n",
        " 2  10.0.128.38  1 ms\n",
        "r14:~# '\n"
       ]
      },
      {
       "output_type": "stream",
       "stream": "stderr",
       "text": [
        "\u001b[1;37mINFO\u001b[0m [r14, r15, r16]\n"
       ]
      },
      {
       "output_type": "stream",
       "stream": "stderr",
       "text": [
        "\u001b[1;37mINFO\u001b[0m Trace from r12 to r16\n"
       ]
      },
      {
       "output_type": "stream",
       "stream": "stderr",
       "text": [
        "\u001b[1;37mINFO\u001b[0m 'traceroute -n -a -U -w 0.5 10.0.128.38\n",
        "traceroute to 10.0.128.38 (10.0.128.38), 64 hops max, 40 byte packets\n",
        " 1  10.0.0.42  2 ms\n",
        " 2  10.0.0.26  3 ms\n",
        " 3  10.0.0.38  4 ms\n",
        " 4  10.0.128.53  4 ms\n",
        " 5  10.0.0.6  1 ms\n",
        " 6  10.0.0.62  1 ms\n",
        " 7  10.0.128.38  1 ms\n",
        "r12:~# '\n"
       ]
      },
      {
       "output_type": "stream",
       "stream": "stderr",
       "text": [
        "\u001b[1;37mINFO\u001b[0m [r12, r5, r9, r18, r17, r14, r15, r16]\n"
       ]
      },
      {
       "output_type": "stream",
       "stream": "stderr",
       "text": [
        "\u001b[1;37mINFO\u001b[0m Trace from r15 to r16\n"
       ]
      },
      {
       "output_type": "stream",
       "stream": "stderr",
       "text": [
        "\u001b[1;37mINFO\u001b[0m 'traceroute -n -a -U -w 0.5 10.0.128.38\n",
        "traceroute to 10.0.128.38 (10.0.128.38), 64 hops max, 40 byte packets\n",
        " 1  10.0.128.38  1 ms\n",
        "r15:~# '\n"
       ]
      },
      {
       "output_type": "stream",
       "stream": "stderr",
       "text": [
        "\u001b[1;37mINFO\u001b[0m [r15, r16]\n"
       ]
      },
      {
       "output_type": "stream",
       "stream": "stderr",
       "text": [
        "\u001b[1;37mINFO\u001b[0m Trace from r13 to r16\n"
       ]
      },
      {
       "output_type": "stream",
       "stream": "stderr",
       "text": [
        "\u001b[1;37mINFO\u001b[0m 'traceroute -n -a -U -w 0.5 10.0.128.38\n",
        "traceroute to 10.0.128.38 (10.0.128.38), 64 hops max, 40 byte packets\n",
        " 1  10.0.128.14  1 ms\n",
        " 2  10.0.0.38  1 ms\n",
        " 3  10.0.128.53  1 ms\n",
        " 4  10.0.0.6  3 ms\n",
        " 5  10.0.128.34  1 ms\n",
        " 6  10.0.128.38  1 ms\n",
        "r13:~# '\n"
       ]
      },
      {
       "output_type": "stream",
       "stream": "stderr",
       "text": [
        "\u001b[1;37mINFO\u001b[0m [r13, r9, r18, r17, r14, r2, r16]\n"
       ]
      },
      {
       "output_type": "stream",
       "stream": "stderr",
       "text": [
        "\u001b[1;37mINFO\u001b[0m Trace from r11 to r16\n"
       ]
      },
      {
       "output_type": "stream",
       "stream": "stderr",
       "text": [
        "\u001b[1;37mINFO\u001b[0m 'traceroute -n -a -U -w 0.5 10.0.128.38\n",
        "traceroute to 10.0.128.38 (10.0.128.38), 64 hops max, 40 byte packets\n",
        " 1  10.0.128.38  1 ms\n",
        "r11:~# '\n"
       ]
      },
      {
       "output_type": "stream",
       "stream": "stderr",
       "text": [
        "\u001b[1;37mINFO\u001b[0m [r11, r16]\n"
       ]
      },
      {
       "output_type": "stream",
       "stream": "stderr",
       "text": [
        "\u001b[1;37mINFO\u001b[0m Trace from r10 to r16\n"
       ]
      },
      {
       "output_type": "stream",
       "stream": "stderr",
       "text": [
        "\u001b[1;37mINFO\u001b[0m 'traceroute -n -a -U -w 0.5 10.0.128.38\n",
        "traceroute to 10.0.128.38 (10.0.128.38), 64 hops max, 40 byte packets\n",
        " 1  10.0.0.58  1 ms\n",
        " 2  10.0.0.62  1 ms\n",
        " 3  10.0.128.38  1 ms\n",
        "r10:~# '\n"
       ]
      },
      {
       "output_type": "stream",
       "stream": "stderr",
       "text": [
        "\u001b[1;37mINFO\u001b[0m [r10, r14, r15, r16]\n"
       ]
      },
      {
       "output_type": "stream",
       "stream": "stderr",
       "text": [
        "\u001b[1;37mINFO\u001b[0m Trace from r19 to r16\n"
       ]
      },
      {
       "output_type": "stream",
       "stream": "stderr",
       "text": [
        "\u001b[1;37mINFO\u001b[0m 'traceroute -n -a -U -w 0.5 10.0.128.38\n",
        "traceroute to 10.0.128.38 (10.0.128.38), 64 hops max, 40 byte packets\n",
        " 1  10.0.0.54  0 ms\n",
        " 2  10.0.128.53  0 ms\n",
        " 3  10.0.0.6  1 ms\n",
        " 4  10.0.128.34  1 ms\n",
        " 5  10.0.128.38  1 ms\n",
        "r19:~# '\n"
       ]
      },
      {
       "output_type": "stream",
       "stream": "stderr",
       "text": [
        "\u001b[1;37mINFO\u001b[0m [r19, r18, r17, r14, r2, r16]\n"
       ]
      },
      {
       "output_type": "stream",
       "stream": "stderr",
       "text": [
        "\u001b[1;37mINFO\u001b[0m Trace from r4 to r16\n"
       ]
      },
      {
       "output_type": "stream",
       "stream": "stderr",
       "text": [
        "\u001b[1;37mINFO\u001b[0m 'traceroute -n -a -U -w 0.5 10.0.128.38\n",
        "traceroute to 10.0.128.38 (10.0.128.38), 64 hops max, 40 byte packets\n",
        " 1  10.0.0.22  1 ms\n",
        " 2  10.0.0.38  1 ms\n",
        " 3  10.0.128.53  1 ms\n",
        " 4  10.0.0.6  1 ms\n",
        " 5  10.0.0.62  1 ms\n",
        " 6  10.0.128.38  1 ms\n",
        "r4:~# '\n"
       ]
      },
      {
       "output_type": "stream",
       "stream": "stderr",
       "text": [
        "\u001b[1;37mINFO\u001b[0m [r4, r9, r18, r17, r14, r15, r16]\n"
       ]
      },
      {
       "output_type": "stream",
       "stream": "stderr",
       "text": [
        "\u001b[1;37mINFO\u001b[0m Trace from r5 to r16\n"
       ]
      },
      {
       "output_type": "stream",
       "stream": "stderr",
       "text": [
        "\u001b[1;37mINFO\u001b[0m 'traceroute -n -a -U -w 0.5 10.0.128.38\n",
        "traceroute to 10.0.128.38 (10.0.128.38), 64 hops max, 40 byte packets\n",
        " 1  10.0.0.26  1 ms\n",
        " 2  10.0.0.38  1 ms\n",
        " 3  10.0.128.53  3 ms\n",
        " 4  10.0.0.6  3 ms\n",
        " 5  10.0.128.34  2 ms\n",
        " 6  10.0.128.38  2 ms\n",
        "r5:~# '\n"
       ]
      },
      {
       "output_type": "stream",
       "stream": "stderr",
       "text": [
        "\u001b[1;37mINFO\u001b[0m [r5, r9, r18, r17, r14, r2, r16]\n"
       ]
      },
      {
       "output_type": "stream",
       "stream": "stderr",
       "text": [
        "\u001b[1;37mINFO\u001b[0m Trace from r18 to r16\n"
       ]
      },
      {
       "output_type": "stream",
       "stream": "stderr",
       "text": [
        "\u001b[1;37mINFO\u001b[0m 'traceroute -n -a -U -w 0.5 10.0.128.38\n",
        "traceroute to 10.0.128.38 (10.0.128.38), 64 hops max, 40 byte packets\n",
        " 1  10.0.128.53  0 ms\n",
        " 2  10.0.0.6  4 ms\n",
        " 3  10.0.0.62  1 ms\n",
        " 4  10.0.128.38  2 ms\n",
        "r18:~# '\n"
       ]
      },
      {
       "output_type": "stream",
       "stream": "stderr",
       "text": [
        "\u001b[1;37mINFO\u001b[0m [r18, r17, r14, r15, r16]\n"
       ]
      },
      {
       "output_type": "stream",
       "stream": "stderr",
       "text": [
        "\u001b[1;37mINFO\u001b[0m Trace from r1 to r16\n"
       ]
      },
      {
       "output_type": "stream",
       "stream": "stderr",
       "text": [
        "\u001b[1;37mINFO\u001b[0m 'traceroute -n -a -U -w 0.5 10.0.128.38\n",
        "traceroute to 10.0.128.38 (10.0.128.38), 64 hops max, 40 byte packets\n",
        " 1  10.0.0.34  2 ms\n",
        " 2  10.0.128.38  1 ms\n",
        "r1:~# '\n"
       ]
      },
      {
       "output_type": "stream",
       "stream": "stderr",
       "text": [
        "\u001b[1;37mINFO\u001b[0m [r1, r2, r16]\n"
       ]
      },
      {
       "output_type": "stream",
       "stream": "stderr",
       "text": [
        "\u001b[1;37mINFO\u001b[0m Trace from r6 to r16\n"
       ]
      },
      {
       "output_type": "stream",
       "stream": "stderr",
       "text": [
        "\u001b[1;37mINFO\u001b[0m 'traceroute -n -a -U -w 0.5 10.0.128.38\n",
        "traceroute to 10.0.128.38 (10.0.128.38), 64 hops max, 40 byte packets\n",
        " 1  10.0.128.18  4 ms\n",
        " 2  10.0.0.22  2 ms\n",
        " 3  10.0.0.38  2 ms\n",
        " 4  10.0.128.53  1 ms\n",
        " 5  10.0.0.6  2 ms\n",
        " 6  10.0.128.34  1 ms\n",
        " 7  10.0.128.38  1 ms\n",
        "r6:~# '\n"
       ]
      },
      {
       "output_type": "stream",
       "stream": "stderr",
       "text": [
        "\u001b[1;37mINFO\u001b[0m [r6, r4, r9, r18, r17, r14, r2, r16]\n"
       ]
      },
      {
       "output_type": "stream",
       "stream": "stderr",
       "text": [
        "\u001b[1;37mINFO\u001b[0m Trace from r3 to r16\n"
       ]
      },
      {
       "output_type": "stream",
       "stream": "stderr",
       "text": [
        "\u001b[1;37mINFO\u001b[0m 'traceroute -n -a -U -w 0.5 10.0.128.38\n",
        "traceroute to 10.0.128.38 (10.0.128.38), 64 hops max, 40 byte packets\n",
        " 1  10.0.0.18  1 ms\n",
        " 2  10.0.0.34  1 ms\n",
        " 3  10.0.128.38  1 ms\n",
        "r3:~# '\n"
       ]
      },
      {
       "output_type": "stream",
       "stream": "stderr",
       "text": [
        "\u001b[1;37mINFO\u001b[0m [r3, r1, r2, r16]\n"
       ]
      },
      {
       "output_type": "stream",
       "stream": "stderr",
       "text": [
        "\u001b[1;37mINFO\u001b[0m Trace from r8 to r16\n"
       ]
      },
      {
       "output_type": "stream",
       "stream": "stderr",
       "text": [
        "\u001b[1;37mINFO\u001b[0m 'traceroute -n -a -U -w 0.5 10.0.128.38\n",
        "traceroute to 10.0.128.38 (10.0.128.38), 64 hops max, 40 byte packets\n",
        " 1  10.0.0.45  1 ms\n",
        " 2  10.0.0.13  1 ms\n",
        " 3  10.0.0.42  1 ms\n",
        " 4  10.0.0.26  1 ms\n",
        " 5  10.0.0.38  1 ms\n",
        " 6  10.0.128.53  1 ms\n",
        " 7  10.0.0.6  1 ms\n",
        " 8  10.0.0.62  1 ms\n",
        " 9  10.0.128.38  2 ms\n",
        "r8:~# '\n"
       ]
      },
      {
       "output_type": "stream",
       "stream": "stderr",
       "text": [
        "\u001b[1;37mINFO\u001b[0m [r8, r20, r12, r5, r9, r18, r17, r14, r15, r16]\n"
       ]
      },
      {
       "output_type": "stream",
       "stream": "stderr",
       "text": [
        "\u001b[1;37mINFO\u001b[0m Trace from r2 to r16\n"
       ]
      },
      {
       "output_type": "stream",
       "stream": "stderr",
       "text": [
        "\u001b[1;37mINFO\u001b[0m 'traceroute -n -a -U -w 0.5 10.0.128.38\n",
        "traceroute to 10.0.128.38 (10.0.128.38), 64 hops max, 40 byte packets\n",
        " 1  10.0.128.38  2 ms\n",
        "r2:~# '\n"
       ]
      },
      {
       "output_type": "stream",
       "stream": "stderr",
       "text": [
        "\u001b[1;37mINFO\u001b[0m [r2, r16]\n"
       ]
      },
      {
       "output_type": "stream",
       "stream": "stderr",
       "text": [
        "\u001b[1;37mINFO\u001b[0m Trace from r9 to r16\n"
       ]
      },
      {
       "output_type": "stream",
       "stream": "stderr",
       "text": [
        "\u001b[1;37mINFO\u001b[0m 'traceroute -n -a -U -w 0.5 10.0.128.38\n",
        "traceroute to 10.0.128.38 (10.0.128.38), 64 hops max, 40 byte packets\n",
        " 1  10.0.0.38  2 ms\n",
        " 2  10.0.128.53  1 ms\n",
        " 3  10.0.0.6  0 ms\n",
        " 4  10.0.128.34  1 ms\n",
        " 5  10.0.128.38  1 ms\n",
        "r9:~# '\n"
       ]
      },
      {
       "output_type": "stream",
       "stream": "stderr",
       "text": [
        "\u001b[1;37mINFO\u001b[0m [r9, r18, r17, r14, r2, r16]\n"
       ]
      }
     ],
     "prompt_number": 25
    }
   ],
   "metadata": {}
  }
 ]
}